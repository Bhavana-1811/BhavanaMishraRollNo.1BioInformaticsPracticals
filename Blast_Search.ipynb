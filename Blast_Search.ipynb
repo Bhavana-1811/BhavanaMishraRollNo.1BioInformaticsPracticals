{
 "cells": [
  {
   "cell_type": "code",
   "execution_count": 1,
   "id": "cf64d9f5",
   "metadata": {},
   "outputs": [
    {
     "name": "stdout",
     "output_type": "stream",
     "text": [
      "Count of A is: 426\n",
      "Count of T is: 382\n",
      "Count of G is: 355\n",
      "Count of C is: 247\n"
     ]
    }
   ],
   "source": [
    "from collections import Counter\n",
    "\n",
    "file1 = open(r\"E:\\MSC CS SEM 1\\BioInformatics\\Bio Informatics Practical\\H1N1_seq.txt\", \"r\")\n",
    "data = file1.read()\n",
    "\n",
    "count = Counter(data)\n",
    "\n",
    "for i, j in count.items():\n",
    "    if i != '\\n':\n",
    "        print(\"Count of \" + str(i) + \" is: \" + str(j))\n"
   ]
  },
  {
   "cell_type": "code",
   "execution_count": null,
   "id": "da167a89",
   "metadata": {},
   "outputs": [],
   "source": []
  }
 ],
 "metadata": {
  "kernelspec": {
   "display_name": "Python 3 (ipykernel)",
   "language": "python",
   "name": "python3"
  },
  "language_info": {
   "codemirror_mode": {
    "name": "ipython",
    "version": 3
   },
   "file_extension": ".py",
   "mimetype": "text/x-python",
   "name": "python",
   "nbconvert_exporter": "python",
   "pygments_lexer": "ipython3",
   "version": "3.9.7"
  }
 },
 "nbformat": 4,
 "nbformat_minor": 5
}

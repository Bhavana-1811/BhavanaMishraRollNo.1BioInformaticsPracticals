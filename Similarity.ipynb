{
 "cells": [
  {
   "cell_type": "code",
   "execution_count": 2,
   "id": "0e324b02",
   "metadata": {},
   "outputs": [
    {
     "name": "stdout",
     "output_type": "stream",
     "text": [
      "Enter the sequence in comma separated form: a,b,b,l,f,v,c,k,i,w,r\n",
      "Enter the sequence in comma separated form: a,b,b,f,v,c,k,v,l,f,k\n",
      "How many similar elements you want to enter:5\n",
      "Enter Similar Elements in comma seperated form:q,n\n",
      "Enter Similar Elements in comma seperated form:i,l,v\n",
      "Enter Similar Elements in comma seperated form:t,s\n",
      "Enter Similar Elements in comma seperated form:w,v,f\n",
      "Enter Similar Elements in comma seperated form:r,k\n",
      "Score:  4\n",
      "The similarity for given sequence is:  36.36363636363637\n"
     ]
    }
   ],
   "source": [
    "sequence1 = input('Enter the sequence in comma separated form: ')\n",
    "sequence2 = input('Enter the sequence in comma separated form: ')\n",
    "\n",
    "s1 = sequence1.split(',')\n",
    "s2 = sequence2.split(',')\n",
    "\n",
    "no_of_similar_elements = int(input(\"How many similar elements you want to enter:\"))\n",
    "similar_elements = []\n",
    "for i in range(no_of_similar_elements):\n",
    "    sim_element = input('Enter Similar Elements in comma seperated form:')\n",
    "    similar_elements.append(sim_element.split(\",\"))\n",
    "\n",
    "\n",
    "def calculate_similarity(seq1, seq2, sim_ele):\n",
    "    score = 0\n",
    "    for i in range(len(seq1)):\n",
    "        for k in range(len(sim_ele)):\n",
    "            if seq1[i] in sim_ele[k] and seq2[i] in sim_ele[k] and seq1[i] != seq2[i]:\n",
    "                score += 1\n",
    "    print('Score: ',score)\n",
    "    similarity = (score/len(seq1))*100\n",
    "    return similarity\n",
    "\n",
    "\n",
    "print('The similarity for given sequence is: ', calculate_similarity(s1, s2, similar_elements))"
   ]
  },
  {
   "cell_type": "code",
   "execution_count": null,
   "id": "3149f1dc",
   "metadata": {},
   "outputs": [],
   "source": []
  }
 ],
 "metadata": {
  "kernelspec": {
   "display_name": "Python 3 (ipykernel)",
   "language": "python",
   "name": "python3"
  },
  "language_info": {
   "codemirror_mode": {
    "name": "ipython",
    "version": 3
   },
   "file_extension": ".py",
   "mimetype": "text/x-python",
   "name": "python",
   "nbconvert_exporter": "python",
   "pygments_lexer": "ipython3",
   "version": "3.9.7"
  }
 },
 "nbformat": 4,
 "nbformat_minor": 5
}

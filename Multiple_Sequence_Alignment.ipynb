{
 "cells": [
  {
   "cell_type": "code",
   "execution_count": 1,
   "id": "0a7c194c",
   "metadata": {},
   "outputs": [
    {
     "name": "stdout",
     "output_type": "stream",
     "text": [
      "Enter the how many sequences is to be entered: 6\n",
      "Enter the sequence in comma seperated form:Y,D,G,A,Y,-,E,A,L\n",
      "Enter the sequence in comma seperated form:Y,D,G,-,-,-,E,A,L\n",
      "Enter the sequence in comma seperated form:F,E,G,I,L,V,E,A,L\n",
      "Enter the sequence in comma seperated form:F,D,-,I,L,V,E,A,L\n",
      "Enter the sequence in comma seperated form:F,D,-,I,L,V,Q,A,L\n",
      "Enter the sequence in comma seperated form:Y,E,G,A,V,V,Q,A,L\n",
      "Consensus:  ['Y/F', 'd', 'G', 'i', 'l', 'V', 'e', 'A', 'L']\n"
     ]
    }
   ],
   "source": [
    "from collections import Counter\n",
    "\n",
    "no_of_seq = int(input(\"Enter the how many sequences is to be entered: \"))\n",
    "sequence = []\n",
    "lst2 = []\n",
    "consensus = []\n",
    "\n",
    "\n",
    "def take_input(sequence):\n",
    "    global no_of_element\n",
    "    seq = input(\"Enter the sequence in comma seperated form:\")\n",
    "    element = seq.split(\",\")\n",
    "    if not sequence:\n",
    "        no_of_element = len(element)\n",
    "    if len(element) == no_of_element:\n",
    "        sequence.append(element)\n",
    "        return True\n",
    "    else:\n",
    "        return False\n",
    "\n",
    "\n",
    "for i in range(no_of_seq):\n",
    "    check = take_input(sequence)\n",
    "    if not check:\n",
    "        print(\"Please enter the sequence of correct length\")\n",
    "        check = take_input(sequence)\n",
    "        if not check:\n",
    "            break\n",
    "\n",
    "# creates a dynmaic empty list to store value columnwise\n",
    "for i in range(len(sequence[0])):\n",
    "    lst2.append([])\n",
    "\n",
    "# creates list columnwise\n",
    "for i in range(len(sequence[0])):   # length of first element of whole sequence\n",
    "    for j in range(len(sequence)):  # no_of_sequences\n",
    "        lst2[i].append(sequence[j][i])\n",
    "\n",
    "# counting the occurrence of elements and appending as per need\n",
    "for j in lst2:\n",
    "    mul_list = []\n",
    "    j = [x for x in j if x != '-']\n",
    "    counter = Counter(j)\n",
    "    if len(list(counter.keys())) == 1:\n",
    "        consensus.append(list(counter.keys())[0].upper())\n",
    "    elif len(list(counter.keys())) > 1:\n",
    "        max_value = max(counter.values())\n",
    "        for i in range(len(list(counter.keys()))):\n",
    "            if max_value == counter.get(list(counter.keys())[i]):\n",
    "                mul_list.append(list(counter.keys())[i].upper())\n",
    "        if len(mul_list) > 1:\n",
    "            consensus.append(mul_list)\n",
    "        else:\n",
    "            consensus.append(mul_list[0].lower())\n",
    "\n",
    "# joining with /\n",
    "for i in range(len(consensus)):\n",
    "    final_str = ''\n",
    "    if type(consensus[i]) == list:\n",
    "        final_str = '/'.join(consensus[i])\n",
    "        consensus[i] = final_str\n",
    "print(\"Consensus: \", consensus)\n",
    "\n",
    "# Y,D,G,A,Y,-,E,A,L\n",
    "# Y,D,G,-,-,-,E,A,L\n",
    "# F,E,G,I,L,V,E,A,L\n",
    "# F,D,-,I,L,V,E,A,L\n",
    "# F,D,-,I,L,V,Q,A,L\n",
    "# Y,E,G,A,V,V,Q,A,L"
   ]
  },
  {
   "cell_type": "code",
   "execution_count": null,
   "id": "69b0789e",
   "metadata": {},
   "outputs": [],
   "source": []
  }
 ],
 "metadata": {
  "kernelspec": {
   "display_name": "Python 3 (ipykernel)",
   "language": "python",
   "name": "python3"
  },
  "language_info": {
   "codemirror_mode": {
    "name": "ipython",
    "version": 3
   },
   "file_extension": ".py",
   "mimetype": "text/x-python",
   "name": "python",
   "nbconvert_exporter": "python",
   "pygments_lexer": "ipython3",
   "version": "3.9.7"
  }
 },
 "nbformat": 4,
 "nbformat_minor": 5
}

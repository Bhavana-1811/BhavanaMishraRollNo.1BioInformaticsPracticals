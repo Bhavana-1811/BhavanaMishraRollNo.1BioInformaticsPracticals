{
 "cells": [
  {
   "cell_type": "code",
   "execution_count": 1,
   "id": "64019267",
   "metadata": {},
   "outputs": [
    {
     "name": "stdout",
     "output_type": "stream",
     "text": [
      "Enter the sequences in comma separated form:A,C,T,G,T,A,C,C\n",
      "Enter the sequence in comma separated form:A,T,G,A,G,C,T\n",
      "Enter the position to enter the gap:2\n",
      "Sequence 1 id: ['A', 'C', 'T', 'G', 'T', 'A', 'C', 'C']\n",
      "Sequence 2 id: ['A', 'T', '-', 'G', 'A', 'G', 'C', 'T']\n",
      "('Identity for given sequences are', 4.6875)\n"
     ]
    }
   ],
   "source": [
    "sequence1 = input('Enter the sequences in comma separated form:')\n",
    "sequence2 = input('Enter the sequence in comma separated form:')\n",
    "\n",
    "seq1 = sequence1.split(',')\n",
    "seq2 = sequence2.split(',')\n",
    "\n",
    "\n",
    "def insert_gap(s1,s2):\n",
    "    k = int(input(\"Enter the position to enter the gap:\"))\n",
    "    if len(s1) > len(s2):\n",
    "        s2.insert(k, '-')\n",
    "    else:\n",
    "        s1.insert(k, '-')\n",
    "    return s1, s2\n",
    "\n",
    "\n",
    "def identity(s1, s2):\n",
    "    if len(s1) != len(s2):\n",
    "        s1, s2 = insert_gap(s1, s2)\n",
    "    print(\"Sequence 1 id:\", s1)\n",
    "    print(\"Sequence 2 id:\", s2)\n",
    "    score = 0\n",
    "    total_elements = len(s1)*len(s2)\n",
    "    for i in range(len(s1)):\n",
    "        if s1[i] == s2[i]:\n",
    "            score += 1\n",
    "    identity_calculation = (score / total_elements) * 100\n",
    "    return \"Identity for given sequences are\", identity_calculation\n",
    "\n",
    "\n",
    "print(identity(seq1, seq2))\n"
   ]
  },
  {
   "cell_type": "code",
   "execution_count": null,
   "id": "6b148b60",
   "metadata": {},
   "outputs": [],
   "source": []
  }
 ],
 "metadata": {
  "kernelspec": {
   "display_name": "Python 3 (ipykernel)",
   "language": "python",
   "name": "python3"
  },
  "language_info": {
   "codemirror_mode": {
    "name": "ipython",
    "version": 3
   },
   "file_extension": ".py",
   "mimetype": "text/x-python",
   "name": "python",
   "nbconvert_exporter": "python",
   "pygments_lexer": "ipython3",
   "version": "3.9.7"
  }
 },
 "nbformat": 4,
 "nbformat_minor": 5
}

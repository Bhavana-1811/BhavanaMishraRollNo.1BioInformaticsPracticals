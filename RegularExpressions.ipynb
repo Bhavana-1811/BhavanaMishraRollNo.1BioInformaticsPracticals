{
 "cells": [
  {
   "cell_type": "code",
   "execution_count": 3,
   "id": "8790a7c5",
   "metadata": {},
   "outputs": [
    {
     "name": "stdout",
     "output_type": "stream",
     "text": [
      "Enter the number of sequences: 4\n",
      "Enter elements of a list separated by space A D L G A V F A L C D R Y F Q\n",
      "Enter elements of a list separated by space S D V G P R S C F C E R F Y Q\n",
      "Enter elements of a list separated by space A D L G R T Q L R C D R Y Y Q\n",
      "Enter elements of a list separated by space A D I G Q P H S L C E R Y F Q\n",
      "AS-D-LVI-G-X-X-X-X-LFR-C-DE-R-YF-FY-Q\n"
     ]
    }
   ],
   "source": [
    "seq = []\n",
    "a = []\n",
    "alt_seq = []\n",
    "final_str = ''\n",
    "\n",
    "def input_sequence(seq):\n",
    "    global final_str\n",
    "    b = int(input(\"Enter the number of sequences: \"))\n",
    "    for i in range(b):\n",
    "        input_elements = input('Enter elements of a list separated by space ')\n",
    "        elements = input_elements.split()\n",
    "        seq.append(elements)\n",
    "\n",
    "    for i in seq:\n",
    "        if len(i) != len(seq[0]):\n",
    "            return \"Please enter the sequences of the same length.\"\n",
    "\n",
    "    for i in range(len(seq[1])):\n",
    "        temp = []\n",
    "        for j in range(len(seq)):\n",
    "            temp.append(seq[j][i])\n",
    "        alt_seq.append(temp)\n",
    "\n",
    "    for i in alt_seq:\n",
    "        temp = ''\n",
    "        if len(i) == len(set(i)):\n",
    "            temp = 'X'\n",
    "        else:\n",
    "            for j in i:\n",
    "                if j not in temp:\n",
    "                    temp = temp + j\n",
    "        if i != alt_seq[-1]:\n",
    "            final_str = final_str + temp + '-'\n",
    "        else:\n",
    "            final_str = final_str + temp\n",
    "    return final_str\n",
    "\n",
    "\n",
    "print(input_sequence(seq))\n",
    "\n",
    "# A D L G A V F A L C D R Y F Q\n",
    "# S D V G P R S C F C E R F Y Q\n",
    "# A D L G R T Q L R C D R Y Y Q\n",
    "# A D I G Q P H S L C E R Y F Q"
   ]
  },
  {
   "cell_type": "code",
   "execution_count": null,
   "id": "51071045",
   "metadata": {},
   "outputs": [],
   "source": []
  }
 ],
 "metadata": {
  "kernelspec": {
   "display_name": "Python 3 (ipykernel)",
   "language": "python",
   "name": "python3"
  },
  "language_info": {
   "codemirror_mode": {
    "name": "ipython",
    "version": 3
   },
   "file_extension": ".py",
   "mimetype": "text/x-python",
   "name": "python",
   "nbconvert_exporter": "python",
   "pygments_lexer": "ipython3",
   "version": "3.9.7"
  }
 },
 "nbformat": 4,
 "nbformat_minor": 5
}

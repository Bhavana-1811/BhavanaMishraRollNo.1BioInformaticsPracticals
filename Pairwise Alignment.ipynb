{
 "cells": [
  {
   "cell_type": "code",
   "execution_count": 3,
   "id": "7eaa96f3",
   "metadata": {},
   "outputs": [
    {
     "name": "stdout",
     "output_type": "stream",
     "text": [
      "Enter the first sequence in comma seperated form:A,C,T,G,C,A,T\n",
      "Enter the second sequence in comma seperated form:A,T,C,C,G,A\n",
      "enter the position to insert gap:1\n",
      "Sequence 1 is: ['A', 'C', 'T', 'G', 'C', 'A', 'T']\n",
      "Sequence 2 is: ['A', '-', 'T', 'C', 'C', 'G', 'A']\n",
      "Score: 3\n"
     ]
    }
   ],
   "source": [
    "seq1 = input(\"Enter the first sequence in comma seperated form:\")\n",
    "seq2 = input(\"Enter the second sequence in comma seperated form:\")\n",
    "\n",
    "seq1 = seq1.split(\",\")\n",
    "seq2 = seq2.split(\",\")\n",
    "\n",
    "\n",
    "def insert_gap(a, b):\n",
    "    diff = abs(len(a) - len(b))\n",
    "    for i in range(diff):\n",
    "        k = int(input(\"enter the position to insert gap:\"))\n",
    "        if len(a) < len(b):\n",
    "            a.insert(k, '-')\n",
    "        else:\n",
    "            b.insert(k, '-')\n",
    "    return a, b\n",
    "\n",
    "\n",
    "def pairwise_alignment(input_seq1, input_seq2):\n",
    "    score = 0\n",
    "    if len(input_seq1) != len(input_seq2):\n",
    "        (input_seq1, input_seq2) = insert_gap(input_seq1, input_seq2)\n",
    "    print('Sequence 1 is:', input_seq1)\n",
    "    print('Sequence 2 is:', input_seq2)\n",
    "    for i in range(len(input_seq1)):\n",
    "        if input_seq1[i] == input_seq2[i]:\n",
    "            score = score + 1\n",
    "    print('Score:', str(score))\n",
    "\n",
    "\n",
    "pairwise_alignment(seq1, seq2)\n",
    "\n"
   ]
  },
  {
   "cell_type": "code",
   "execution_count": null,
   "id": "f58b0f5c",
   "metadata": {},
   "outputs": [],
   "source": []
  }
 ],
 "metadata": {
  "kernelspec": {
   "display_name": "Python 3 (ipykernel)",
   "language": "python",
   "name": "python3"
  },
  "language_info": {
   "codemirror_mode": {
    "name": "ipython",
    "version": 3
   },
   "file_extension": ".py",
   "mimetype": "text/x-python",
   "name": "python",
   "nbconvert_exporter": "python",
   "pygments_lexer": "ipython3",
   "version": "3.9.7"
  }
 },
 "nbformat": 4,
 "nbformat_minor": 5
}

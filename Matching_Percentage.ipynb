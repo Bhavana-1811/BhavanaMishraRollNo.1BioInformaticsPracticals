{
 "cells": [
  {
   "cell_type": "code",
   "execution_count": 3,
   "id": "3c3cd028",
   "metadata": {},
   "outputs": [
    {
     "name": "stdout",
     "output_type": "stream",
     "text": [
      "Enter the first sequence in comma seperated form:a,b,b,f,v,c,k,v,l,f,k\n",
      "Enter the second sequence in comma seperated form:a,b,b,l,f,v,c,k,i,w,r\n",
      "How many elements are similar:2\n",
      "Enter the similar elements in comma seperated form:w,f\n",
      "Enter the similar elements in comma seperated form:i,l,v\n",
      "Sequence 1 is:  ['a', 'b', 'b', 'f', 'v', 'c', 'k', 'v', 'l', 'f', 'k']\n",
      "Sequence 2 is:  ['a', 'b', 'b', 'l', 'f', 'v', 'c', 'k', 'i', 'w', 'r']\n",
      "The matching percent for given sequences is: 1.8782870022539446\n"
     ]
    }
   ],
   "source": [
    "se1 = input(\"Enter the first sequence in comma seperated form:\")\n",
    "se2 = input(\"Enter the second sequence in comma seperated form:\")\n",
    "no_of_similar_elements = int(input(\"How many elements are similar:\"))\n",
    "similar_elements = []\n",
    "for i in range(no_of_similar_elements):\n",
    "    sim_elements = input(\"Enter the similar elements in comma seperated form:\")\n",
    "    similar_elements.append(sim_elements.split(\",\"))\n",
    "\n",
    "seq1 = se1.split(\",\")\n",
    "seq2 = se2.split(\",\")\n",
    "\n",
    "\n",
    "def calculate_identity(a, b):\n",
    "    insert_gap(a, b)\n",
    "    score_count = 0\n",
    "    total_elements = len(a) * len(b)\n",
    "    for i in range(0, len(a)):\n",
    "        if a[i] == b[i]:\n",
    "            score_count = score_count + 1\n",
    "    identity = (score_count / total_elements) * 100\n",
    "    return identity\n",
    "\n",
    "\n",
    "def insert_gap(a, b):\n",
    "    if len(a) == len(b):\n",
    "        pass\n",
    "    else:\n",
    "        diff = abs(len(a) - len(b))\n",
    "        for i in range(diff):\n",
    "            k = int(input(\"enter the position to insert gap:\"))\n",
    "            if len(a) < len(b):\n",
    "                a.insert(k, '-')\n",
    "            else:\n",
    "                b.insert(k, '-')\n",
    "    return a, b\n",
    "\n",
    "\n",
    "def calculate_similarity(seq1, seq2, sim):\n",
    "    score_count = 0\n",
    "    for i in range(len(seq1)):\n",
    "        for k in range(len(sim)):\n",
    "            if seq1[i] in sim[k] and seq2[i] in sim[k] and seq1[i] != seq2[i]:\n",
    "                score_count += 1\n",
    "    similarity = (score_count*100)/len(seq1)\n",
    "    return similarity\n",
    "\n",
    "\n",
    "def calculate_matching_percentage(seq1, seq2, similar_elements):\n",
    "    identity = calculate_identity(seq1, seq2)\n",
    "    similarity = calculate_similarity(seq1, seq2, similar_elements)\n",
    "    matching_value = (identity+similarity)/(len(seq1) - abs(len(seq1) - len(seq2)))\n",
    "    print('Sequence 1 is: ',seq1)\n",
    "    print('Sequence 2 is: ', seq2)\n",
    "    return \"The matching percent for given sequences is: \"+str(matching_value)\n",
    "\n",
    "\n",
    "print(calculate_matching_percentage(seq1, seq2, similar_elements))\n"
   ]
  },
  {
   "cell_type": "code",
   "execution_count": null,
   "id": "1c9e22e7",
   "metadata": {},
   "outputs": [],
   "source": []
  }
 ],
 "metadata": {
  "kernelspec": {
   "display_name": "Python 3 (ipykernel)",
   "language": "python",
   "name": "python3"
  },
  "language_info": {
   "codemirror_mode": {
    "name": "ipython",
    "version": 3
   },
   "file_extension": ".py",
   "mimetype": "text/x-python",
   "name": "python",
   "nbconvert_exporter": "python",
   "pygments_lexer": "ipython3",
   "version": "3.9.7"
  }
 },
 "nbformat": 4,
 "nbformat_minor": 5
}

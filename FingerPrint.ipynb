{
 "cells": [
  {
   "cell_type": "code",
   "execution_count": 1,
   "id": "566a51ff",
   "metadata": {},
   "outputs": [
    {
     "name": "stdout",
     "output_type": "stream",
     "text": [
      "Enter the how many sequences is to be entered: 6\n",
      "Enter the sequence in comma seperated form:A,C,T,G,A,G\n",
      "Enter the sequence in comma seperated form:A,T,C,G,A,C\n",
      "Enter the sequence in comma seperated form:A,G,C,T,G,C\n",
      "Enter the sequence in comma seperated form:A,T,C,C,G,A\n",
      "Enter the sequence in comma seperated form:A,G,G,T,C,T\n",
      "Enter the sequence in comma seperated form:A,C,G,T,T,C\n",
      " A  C  G  T\n",
      " 6  0  0  0\n",
      " 0  2  2  2\n",
      " 0  3  2  1\n",
      " 0  1  2  3\n",
      " 2  1  2  1\n",
      " 1  3  1  1\n"
     ]
    }
   ],
   "source": [
    "import pandas as pd\n",
    "\n",
    "no_of_seq = int(input(\"Enter the how many sequences is to be entered: \"))\n",
    "sequence = []\n",
    "\n",
    "\n",
    "def take_input(sequence):\n",
    "    global no_of_element\n",
    "    seq = input(\"Enter the sequence in comma seperated form:\")\n",
    "    element = seq.split(\",\")\n",
    "    if not sequence:\n",
    "        no_of_element = len(element)\n",
    "    if len(element) == no_of_element:\n",
    "        sequence.append(element)\n",
    "        return True\n",
    "    else:\n",
    "        return False\n",
    "\n",
    "\n",
    "for i in range(no_of_seq):\n",
    "    check = take_input(sequence)\n",
    "    if not check:\n",
    "        print(\"Please enter the sequence of correct length\")\n",
    "        check = take_input(sequence)\n",
    "        if not check:\n",
    "            break\n",
    "\n",
    "unique_elements = sorted(list({x for l in sequence for x in l}))\n",
    "column_wise = []\n",
    "for i in range(len(sequence)):\n",
    "    column_wise.append([])\n",
    "\n",
    "# creates list columnwise\n",
    "for i in range(len(sequence)):   # length of first element of whole sequence\n",
    "    for j in range(len(sequence)):  # no_of_sequences\n",
    "        column_wise[i].append(sequence[j][i])\n",
    "\n",
    "result = []\n",
    "\n",
    "for j in column_wise:\n",
    "    result.append([])\n",
    "    for i in unique_elements:\n",
    "        if i in j:\n",
    "            count = j.count(i)\n",
    "            result[-1].append(count)\n",
    "        else:\n",
    "            result[-1].append(0)\n",
    "\n",
    "df = pd.DataFrame(result, columns=unique_elements)\n",
    "print(df.to_string(index=False))\n"
   ]
  },
  {
   "cell_type": "code",
   "execution_count": null,
   "id": "f8808158",
   "metadata": {},
   "outputs": [],
   "source": []
  }
 ],
 "metadata": {
  "kernelspec": {
   "display_name": "Python 3 (ipykernel)",
   "language": "python",
   "name": "python3"
  },
  "language_info": {
   "codemirror_mode": {
    "name": "ipython",
    "version": 3
   },
   "file_extension": ".py",
   "mimetype": "text/x-python",
   "name": "python",
   "nbconvert_exporter": "python",
   "pygments_lexer": "ipython3",
   "version": "3.9.7"
  }
 },
 "nbformat": 4,
 "nbformat_minor": 5
}
